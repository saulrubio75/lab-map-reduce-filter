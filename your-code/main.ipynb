{
  "cells": [
    {
      "cell_type": "markdown",
      "metadata": {
        "id": "e4IHRhnCf0Zf"
      },
      "source": [
        "# Before your start:\n",
        "- Read the README.md file\n",
        "- Comment as much as you can and use the resources in the README.md file\n",
        "- Happy learning!"
      ]
    },
    {
      "cell_type": "code",
      "execution_count": 3,
      "metadata": {
        "id": "eHUiOeb1f0Zg"
      },
      "outputs": [],
      "source": [
        "# import reduce from functools, numpy and pandas\n",
        "from functools import reduce \n",
        "import numpy as np \n",
        "import pandas as pd \n",
        "import re \n",
        "\n"
      ]
    },
    {
      "cell_type": "markdown",
      "metadata": {
        "id": "Co34lq51f0Zh"
      },
      "source": [
        "# Challenge 1 - Mapping\n",
        "\n",
        "#### We will use the map function to clean up words in a book.\n",
        "\n",
        "In the following cell, we will read a text file containing the book The Prophet by Khalil Gibran."
      ]
    },
    {
      "cell_type": "code",
      "execution_count": 4,
      "metadata": {
        "id": "onOzuuGmf0Zi",
        "outputId": "c65eecb5-f039-4040-dc7d-cde835c5537b",
        "colab": {
          "base_uri": "https://localhost:8080/",
          "height": 215
        }
      },
      "outputs": [
        {
          "output_type": "error",
          "ename": "FileNotFoundError",
          "evalue": "ignored",
          "traceback": [
            "\u001b[0;31m---------------------------------------------------------------------------\u001b[0m",
            "\u001b[0;31mFileNotFoundError\u001b[0m                         Traceback (most recent call last)",
            "\u001b[0;32m<ipython-input-4-99f82de06acf>\u001b[0m in \u001b[0;36m<module>\u001b[0;34m\u001b[0m\n\u001b[1;32m      2\u001b[0m \u001b[0;34m\u001b[0m\u001b[0m\n\u001b[1;32m      3\u001b[0m \u001b[0mlocation\u001b[0m \u001b[0;34m=\u001b[0m \u001b[0;34m'../58585-0.txt'\u001b[0m\u001b[0;34m\u001b[0m\u001b[0;34m\u001b[0m\u001b[0m\n\u001b[0;32m----> 4\u001b[0;31m \u001b[0;32mwith\u001b[0m \u001b[0mopen\u001b[0m\u001b[0;34m(\u001b[0m\u001b[0mlocation\u001b[0m\u001b[0;34m,\u001b[0m \u001b[0;34m'r'\u001b[0m\u001b[0;34m,\u001b[0m \u001b[0mencoding\u001b[0m\u001b[0;34m=\u001b[0m\u001b[0;34m\"utf8\"\u001b[0m\u001b[0;34m)\u001b[0m \u001b[0;32mas\u001b[0m \u001b[0mf\u001b[0m\u001b[0;34m:\u001b[0m\u001b[0;34m\u001b[0m\u001b[0;34m\u001b[0m\u001b[0m\n\u001b[0m\u001b[1;32m      5\u001b[0m     \u001b[0mprophet\u001b[0m \u001b[0;34m=\u001b[0m \u001b[0mf\u001b[0m\u001b[0;34m.\u001b[0m\u001b[0mread\u001b[0m\u001b[0;34m(\u001b[0m\u001b[0;34m)\u001b[0m\u001b[0;34m.\u001b[0m\u001b[0msplit\u001b[0m\u001b[0;34m(\u001b[0m\u001b[0;34m' '\u001b[0m\u001b[0;34m)\u001b[0m\u001b[0;34m\u001b[0m\u001b[0;34m\u001b[0m\u001b[0m\n",
            "\u001b[0;31mFileNotFoundError\u001b[0m: [Errno 2] No such file or directory: '../58585-0.txt'"
          ]
        }
      ],
      "source": [
        "# Run this code:\n",
        "\n",
        "location = '../58585-0.txt'\n",
        "with open(location, 'r', encoding=\"utf8\") as f:\n",
        "    prophet = f.read().split(' ')"
      ]
    },
    {
      "cell_type": "markdown",
      "metadata": {
        "id": "BEMbUJqXf0Zw"
      },
      "source": [
        "#### Let's remove the first 568 words since they contain information about the book but are not part of the book itself. \n",
        "\n",
        "Do this by removing from `prophet` elements 0 through 567 of the list (you can also do this by keeping elements 568 through the last element)."
      ]
    },
    {
      "cell_type": "code",
      "execution_count": null,
      "metadata": {
        "id": "2TuQQlDaf0Zw"
      },
      "outputs": [],
      "source": [
        "# Your code here:\n",
        "\n",
        "prophet_re = prophet[567:]\n",
        "print(prophet_re)"
      ]
    },
    {
      "cell_type": "markdown",
      "metadata": {
        "id": "c94vvTtef0Zx"
      },
      "source": [
        "If you look through the words, you will find that many words have a reference attached to them. For example, let's look at words 1 through 10."
      ]
    },
    {
      "cell_type": "code",
      "execution_count": null,
      "metadata": {
        "id": "k0mW3vycf0Zx"
      },
      "outputs": [],
      "source": [
        "# Your code here:\n",
        "prophet_re[0:10] \n"
      ]
    },
    {
      "cell_type": "markdown",
      "metadata": {
        "id": "1AIxZsBSf0Zx"
      },
      "source": [
        "#### The next step is to create a function that will remove references. \n",
        "\n",
        "We will do this by splitting the string on the `{` character and keeping only the part before this character. Write your function below."
      ]
    },
    {
      "cell_type": "code",
      "execution_count": 6,
      "metadata": {
        "id": "rPvfXvMUf0Zx"
      },
      "outputs": [],
      "source": [
        "def reference(x):\n",
        "    '''\n",
        "    Input: A string\n",
        "    Output: The string with references removed\n",
        "    \n",
        "    Example:\n",
        "    Input: 'the{7}'\n",
        "    Output: 'the'\n",
        "    '''\n",
        "    \n",
        "    # Your code here:\n",
        "    out = []\n",
        "    for character in x:\n",
        "        if character != '{':\n",
        "            out.append(character)\n",
        "        elif character != '}':\n",
        "            out.append(character)\n",
        "    new_string = ''.join(out)\n",
        "    return new_string\n",
        "    \n",
        "    \n",
        "    "
      ]
    },
    {
      "cell_type": "markdown",
      "metadata": {
        "id": "9e1Qfk-Bf0Zy"
      },
      "source": [
        "Now that we have our function, use the `map()` function to apply this function to our book, The Prophet. Return the resulting list to a new list called `prophet_reference`"
      ]
    },
    {
      "cell_type": "code",
      "execution_count": null,
      "metadata": {
        "id": "d_GvQy1Kf0Zy"
      },
      "outputs": [],
      "source": [
        "# Your code here: \n",
        "\n",
        "prophet_reference = list(map(reference, prophet_re)) \n",
        "print(prophet_reference)\n",
        "\n"
      ]
    },
    {
      "cell_type": "markdown",
      "metadata": {
        "id": "dELIAW-Pf0Zy"
      },
      "source": [
        "Another thing you may have noticed is that some words contain a line break. Let's write a function to split those words. Our function will return the string split on the character `\\n`. Write your function in the cell below."
      ]
    },
    {
      "cell_type": "code",
      "execution_count": 9,
      "metadata": {
        "id": "puT9VAccf0Zy"
      },
      "outputs": [],
      "source": [
        "def line_break(x):\n",
        "    '''\n",
        "    Input: A string\n",
        "    Output: A list of strings split on the line break (\\n) character\n",
        "        \n",
        "    Example:\n",
        "    Input: 'the\\nbeloved'\n",
        "    Output: ['the', 'beloved']\n",
        "    '''\n",
        "    \n",
        "    # Your code here:\n",
        "    out = []\n",
        "    import re \n",
        "    for character in x:\n",
        "        split_char = character.split() \n",
        "        if split_char != '\\\\n': \n",
        "            out.append(split_char)\n",
        "    return out \n",
        "    \n",
        "    \n",
        "    "
      ]
    },
    {
      "cell_type": "markdown",
      "metadata": {
        "id": "jhGMVgtPf0Zz"
      },
      "source": [
        "Apply the `line_break` function to the `prophet_reference` list. Name the new list `prophet_line`."
      ]
    },
    {
      "cell_type": "code",
      "execution_count": 10,
      "metadata": {
        "id": "cXDXL1zSf0Zz",
        "outputId": "713ba5f1-d05a-427d-e939-ee6ade5d575c",
        "colab": {
          "base_uri": "https://localhost:8080/",
          "height": 215
        }
      },
      "outputs": [
        {
          "output_type": "error",
          "ename": "NameError",
          "evalue": "ignored",
          "traceback": [
            "\u001b[0;31m---------------------------------------------------------------------------\u001b[0m",
            "\u001b[0;31mNameError\u001b[0m                                 Traceback (most recent call last)",
            "\u001b[0;32m<ipython-input-10-d4b7fe189aca>\u001b[0m in \u001b[0;36m<module>\u001b[0;34m\u001b[0m\n\u001b[1;32m      1\u001b[0m \u001b[0;31m# Your code here:\u001b[0m\u001b[0;34m\u001b[0m\u001b[0;34m\u001b[0m\u001b[0;34m\u001b[0m\u001b[0m\n\u001b[0;32m----> 2\u001b[0;31m \u001b[0mprophet_line\u001b[0m \u001b[0;34m=\u001b[0m \u001b[0mline_break\u001b[0m\u001b[0;34m(\u001b[0m\u001b[0mprophet_reference\u001b[0m\u001b[0;34m)\u001b[0m\u001b[0;34m\u001b[0m\u001b[0;34m\u001b[0m\u001b[0m\n\u001b[0m\u001b[1;32m      3\u001b[0m \u001b[0mprint\u001b[0m\u001b[0;34m(\u001b[0m\u001b[0mprophet_line\u001b[0m\u001b[0;34m)\u001b[0m\u001b[0;34m\u001b[0m\u001b[0;34m\u001b[0m\u001b[0m\n\u001b[1;32m      4\u001b[0m \u001b[0;34m\u001b[0m\u001b[0m\n",
            "\u001b[0;31mNameError\u001b[0m: name 'prophet_reference' is not defined"
          ]
        }
      ],
      "source": [
        "# Your code here: \n",
        "prophet_line = line_break(prophet_reference)\n",
        "print(prophet_line)\n",
        "\n"
      ]
    },
    {
      "cell_type": "markdown",
      "metadata": {
        "id": "AJ9b_WoWf0Zz"
      },
      "source": [
        "If you look at the elements of `prophet_line`, you will see that the function returned lists and not strings. Our list is now a list of lists. Flatten the list using list comprehension. Assign this new list to `prophet_flat`."
      ]
    },
    {
      "cell_type": "code",
      "execution_count": null,
      "metadata": {
        "id": "03aMpJN5f0Zz"
      },
      "outputs": [],
      "source": [
        "# Your code here:\n",
        "\n"
      ]
    },
    {
      "cell_type": "markdown",
      "metadata": {
        "id": "hp40ufztf0Zz"
      },
      "source": [
        "# Challenge 2 - Filtering\n",
        "\n",
        "When printing out a few words from the book, we see that there are words that we may not want to keep if we choose to analyze the corpus of text. Below is a list of words that we would like to get rid of. Create a function that will return false if it contains a word from the list of words specified and true otherwise."
      ]
    },
    {
      "cell_type": "code",
      "execution_count": 1,
      "metadata": {
        "id": "zIpKpkSIf0Z0"
      },
      "outputs": [],
      "source": [
        "def word_filter(x):\n",
        "    '''\n",
        "    Input: A string\n",
        "    Output: true if the word is not in the specified list and false if the word is in the list\n",
        "        \n",
        "    Example:\n",
        "    word list = ['and', 'the']\n",
        "    Input: 'and'\n",
        "    Output: False\n",
        "    \n",
        "    Input: 'John'\n",
        "    Output: True\n",
        "    '''\n",
        "    \n",
        "    word_list = ['and', 'the', 'a', 'an']\n",
        "    \n",
        "    # Your code here: \n",
        "    if x in word_list:\n",
        "        return False\n",
        "    else:\n",
        "        return True\n",
        "    \n",
        "    "
      ]
    },
    {
      "cell_type": "markdown",
      "metadata": {
        "id": "Hxutoixaf0Z0"
      },
      "source": [
        "Use the `filter()` function to filter out the words speficied in the `word_filter()` function. Store the filtered list in the variable `prophet_filter`."
      ]
    },
    {
      "cell_type": "markdown",
      "metadata": {
        "id": "Ak6nRS4Cf0Z0"
      },
      "source": [
        "# Bonus Challenge - Part 1\n",
        "\n",
        "Rewrite the `word_filter` function above to not be case sensitive."
      ]
    },
    {
      "cell_type": "code",
      "execution_count": 2,
      "metadata": {
        "id": "EdRmiWdRf0Z0"
      },
      "outputs": [],
      "source": [
        "def word_filter_case(x):\n",
        "   \n",
        "    word_list = ['and', 'the', 'a', 'an']\n",
        "    \n",
        "    # Your code here:\n",
        "    if x.lower() in word_list:\n",
        "        return False\n",
        "    else:\n",
        "        return True\n",
        "    \n",
        "    "
      ]
    },
    {
      "cell_type": "markdown",
      "metadata": {
        "id": "mL7yKvkhf0Z1"
      },
      "source": [
        "# Challenge 3 - Reducing\n",
        "\n",
        "#### Now that we have significantly cleaned up our text corpus, let's use the `reduce()` function to put the words back together into one long string separated by spaces. \n",
        "\n",
        "We will start by writing a function that takes two strings and concatenates them together with a space between the two strings."
      ]
    },
    {
      "cell_type": "code",
      "execution_count": 3,
      "metadata": {
        "id": "H5RY5gGXf0Z1"
      },
      "outputs": [],
      "source": [
        "def concat_space(a, b):\n",
        "    '''\n",
        "    Input:Two strings\n",
        "    Output: A single string separated by a space\n",
        "        \n",
        "    Example:\n",
        "    Input: 'John', 'Smith'\n",
        "    Output: 'John Smith'\n",
        "    '''\n",
        "    \n",
        "    # Your code here:\n",
        "    return a+' '+b\n",
        "    \n",
        "    "
      ]
    },
    {
      "cell_type": "markdown",
      "metadata": {
        "id": "RHXS0PW_f0Z1"
      },
      "source": [
        "Use the function above to reduce the text corpus in the list `prophet_filter` into a single string. Assign this new string to the variable `prophet_string`."
      ]
    },
    {
      "cell_type": "code",
      "execution_count": 4,
      "metadata": {
        "id": "3ycaTztIf0Z1",
        "outputId": "cd0d1e82-a302-40ee-ca3c-ccb95392c106",
        "colab": {
          "base_uri": "https://localhost:8080/",
          "height": 181
        }
      },
      "outputs": [
        {
          "output_type": "error",
          "ename": "NameError",
          "evalue": "ignored",
          "traceback": [
            "\u001b[0;31m---------------------------------------------------------------------------\u001b[0m",
            "\u001b[0;31mNameError\u001b[0m                                 Traceback (most recent call last)",
            "\u001b[0;32m<ipython-input-4-66e1d88d93a5>\u001b[0m in \u001b[0;36m<module>\u001b[0;34m\u001b[0m\n\u001b[1;32m      1\u001b[0m \u001b[0;31m# Your code here:\u001b[0m\u001b[0;34m\u001b[0m\u001b[0;34m\u001b[0m\u001b[0;34m\u001b[0m\u001b[0m\n\u001b[0;32m----> 2\u001b[0;31m \u001b[0mreduce\u001b[0m\u001b[0;34m(\u001b[0m\u001b[0mconcat_space\u001b[0m\u001b[0;34m,\u001b[0m \u001b[0mprophet_filter\u001b[0m\u001b[0;34m)\u001b[0m\u001b[0;34m\u001b[0m\u001b[0;34m\u001b[0m\u001b[0m\n\u001b[0m",
            "\u001b[0;31mNameError\u001b[0m: name 'reduce' is not defined"
          ]
        }
      ],
      "source": [
        "# Your code here:\n",
        "reduce(concat_space, prophet_filter)\n"
      ]
    }
  ],
  "metadata": {
    "kernelspec": {
      "display_name": "Python 3",
      "language": "python",
      "name": "python3"
    },
    "language_info": {
      "codemirror_mode": {
        "name": "ipython",
        "version": 3
      },
      "file_extension": ".py",
      "mimetype": "text/x-python",
      "name": "python",
      "nbconvert_exporter": "python",
      "pygments_lexer": "ipython3",
      "version": "3.7.3"
    },
    "colab": {
      "provenance": []
    }
  },
  "nbformat": 4,
  "nbformat_minor": 0
}